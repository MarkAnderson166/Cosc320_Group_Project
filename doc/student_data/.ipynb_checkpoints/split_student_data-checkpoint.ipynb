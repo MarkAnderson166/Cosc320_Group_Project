{
 "cells": [
  {
   "cell_type": "code",
   "execution_count": 5,
   "id": "c4d7f02e",
   "metadata": {},
   "outputs": [],
   "source": [
    "import os\n",
    "import csv\n",
    "\n",
    "def split_csv(source_filepath, dest_folder, split_file_prefix,\n",
    "                records_per_file):\n",
    "    \"\"\"\n",
    "    Split a source csv into multiple csvs of equal numbers of records,\n",
    "    except the last file.\n",
    "\n",
    "    Includes the initial header row in each split file.\n",
    "\n",
    "    Split files follow a zero-index sequential naming convention like so:\n",
    "\n",
    "        `{split_file_prefix}_0.csv`\n",
    "    \"\"\"\n",
    "    if records_per_file <= 0:\n",
    "        raise Exception('records_per_file must be > 0')\n",
    "\n",
    "    with open(source_filepath, 'r') as source:\n",
    "        reader = csv.reader(source)\n",
    "        headers = next(reader)\n",
    "\n",
    "        file_idx = 2\n",
    "        records_exist = True\n",
    "\n",
    "        while records_exist:\n",
    "\n",
    "            i = 0\n",
    "            target_filename = f'{split_file_prefix}_{file_idx}.csv'\n",
    "            target_filepath = os.path.join(dest_folder, target_filename)\n",
    "\n",
    "            with open(target_filepath, 'w', newline='') as target:\n",
    "                writer = csv.writer(target)\n",
    "\n",
    "                while i < records_per_file:\n",
    "                    if i == 0:\n",
    "                        writer.writerow(headers)\n",
    "\n",
    "                    try:\n",
    "                        writer.writerow(next(reader))\n",
    "                        i += 1\n",
    "                    except StopIteration:\n",
    "                        records_exist = False\n",
    "                        break\n",
    "\n",
    "            if i == 0:\n",
    "                # we only wrote the header, so delete that file\n",
    "                os.remove(target_filepath)\n",
    "\n",
    "            file_idx += 1"
   ]
  },
  {
   "cell_type": "code",
   "execution_count": 10,
   "id": "14330c64",
   "metadata": {},
   "outputs": [],
   "source": [
    "split_csv(\"student_data_bcomp.csv\",\".\",\"bcomp\",1)"
   ]
  },
  {
   "cell_type": "code",
   "execution_count": null,
   "id": "70102cb0",
   "metadata": {},
   "outputs": [],
   "source": []
  }
 ],
 "metadata": {
  "kernelspec": {
   "display_name": "Python 3",
   "language": "python",
   "name": "python3"
  },
  "language_info": {
   "codemirror_mode": {
    "name": "ipython",
    "version": 3
   },
   "file_extension": ".py",
   "mimetype": "text/x-python",
   "name": "python",
   "nbconvert_exporter": "python",
   "pygments_lexer": "ipython3",
   "version": "3.8.8"
  }
 },
 "nbformat": 4,
 "nbformat_minor": 5
}
